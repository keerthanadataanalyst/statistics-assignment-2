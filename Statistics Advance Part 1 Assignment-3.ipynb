{
 "cells": [
  {
   "cell_type": "code",
   "execution_count": null,
   "id": "559889e2-39bf-4cb0-bf09-7499a5e4efab",
   "metadata": {},
   "outputs": [],
   "source": [
    "#Statistics Advance part 1 (theory)"
   ]
  },
  {
   "cell_type": "code",
   "execution_count": 85,
   "id": "a9514b81-a194-426e-a14e-50549d657bdd",
   "metadata": {},
   "outputs": [],
   "source": [
    "import numpy as np\n",
    "import pandas as pd\n",
    "import matplotlib.pyplot as plt\n",
    "import seaborn as sns\n",
    "\n",
    "import warnings\n",
    "warnings.filterwarnings('ignore')"
   ]
  },
  {
   "cell_type": "code",
   "execution_count": 87,
   "id": "638d8056-3fed-4f0b-9e2b-d069503d6796",
   "metadata": {},
   "outputs": [],
   "source": [
    "#1. What is a random variable in probability theory"
   ]
  },
  {
   "cell_type": "markdown",
   "id": "d10d4151-1903-42d5-9344-588aae1bd28c",
   "metadata": {},
   "source": [
    "'''\n",
    "A. Random Variable:\n",
    "\n",
    "- A random variable is a function that assigns real value to an outcome in a sample space in a random experiment.\n",
    "\n",
    "p(x) = no of possible outcomes/ Total no of outcomes\n",
    "\n",
    "#example : if you roll a dice then we can assign a number to each possible outcome\n",
    "\n",
    "x = {1,2,3,4,5,6}\n",
    "\n",
    "what is probability of getting \n",
    "\n",
    "p(x==1) = no of possible outcomes / total no of outcomes = 1/6\n",
    "\n",
    "p(x==3) = 1/6\n",
    "                                   \n",
    "'''"
   ]
  },
  {
   "cell_type": "code",
   "execution_count": null,
   "id": "77e9444e-62ab-4f66-a2a5-65e217520000",
   "metadata": {},
   "outputs": [],
   "source": [
    "#2. What are the types of random variables?"
   ]
  },
  {
   "cell_type": "markdown",
   "id": "dbd44ab5-7496-4967-bd9f-908091207001",
   "metadata": {},
   "source": [
    "'''\n",
    "A. There are two types of random variables:\n",
    "\n",
    "a. Discrete random variable\n",
    "b. Continuous random variable\n",
    "\n",
    "a. Discrete random variable -\n",
    "\n",
    "i. The values should be countable or finite (X = 1,2,3,....)\n",
    "\n",
    "Example - cToss of a coin\n",
    "Rolling a dice\n",
    "\n",
    "ii. The propability function which is associated with it is called Propability Mass function(PMF)\n",
    "\n",
    "If X is a discrete random variable and the PMF of Xi is p(xi) then\n",
    "\n",
    "0 <= p(xi) <= 1\n",
    "\n",
    "p(xi) = 1 (the sum of all possible outcomes)\n",
    "\n",
    "iii. Types of distributions:\n",
    "\n",
    "#Bernoulis distribution\n",
    "#Binomial distribution\n",
    "#Poisson distribution\n",
    "\n",
    "b. Continuous random variable:\n",
    "\n",
    "i. It takes an uncountably infinite number of values.\n",
    "\n",
    "Example -\n",
    "Height of people (152.6cm)\n",
    "Temparature in an place (32 degrees)\n",
    "\n",
    "ii. The propability function which is associated with it is called Propability Density function(PDF)\n",
    "\n",
    "If X is a continuous random variable and the P(x < X < (x + dx)) = f(x)dx\n",
    "\n",
    "0 ≤ f(x) ≤ 1; for all x\n",
    "∫ f(x) dx = 1 over all values of x\n",
    "\n",
    "Then P(X) is the pdf of the distribution.\n",
    "\n",
    "iii. Types of distributions:\n",
    "\n",
    "#Normal distribution\n",
    "#Standard normal distribution\n",
    "#chi-square distribution\n",
    "#F distribution"
   ]
  },
  {
   "cell_type": "code",
   "execution_count": null,
   "id": "4c86a9d2-fcf8-41c3-85ca-f1edb64cf82a",
   "metadata": {},
   "outputs": [],
   "source": [
    "#3. What is the difference between discrete and continuous distributions"
   ]
  },
  {
   "cell_type": "markdown",
   "id": "d9dfef02-f868-4e23-9047-e9b41c4714c8",
   "metadata": {},
   "source": [
    "'''\n",
    "A. There are significant differences between discrete and continuous distributions\n",
    "\n",
    "\n",
    "Discrete - \n",
    "Continous - \n",
    "\n",
    "Key Differences\n",
    "\n",
    "1. Type of values\n",
    "\n",
    "Discrete - They are countable\n",
    "Continous - They are uncountable or infinite values\n",
    "\n",
    "2. Values taken \n",
    "\n",
    "Discrete - They take specific points such as (0,1,2...)\n",
    "Continous - They take any value in the interval (eg - 3.56, 45.78 ....)\n",
    "\n",
    "3. Propability function \n",
    "\n",
    "Discrete - It is associated  with propability mass function\n",
    "Continous - It is associated with propability density function\n",
    "\n",
    "4. Propability at an exact point\n",
    "\n",
    "Discrete - Can be greater than 0, i.e., P(X=x)>0\n",
    "Continous - it is always equals to zero P(X=x)=0 (as it takes infinite values it is caluclated over an interval as at an exact point the value is so small that is almost zero)\n",
    "\n",
    "5. Total propabiltiy \n",
    "\n",
    "Discrete - ∑P(X=x)=1,  it is equals to 1\n",
    "Continous - ∫ (−∞ to ∞)f(x)dx=1, it also equals to 1 \n",
    "\n",
    "6. Examples \n",
    "\n",
    "Discrete - Toss of a coin, Rolling a dice\n",
    "Continous - Height of people (152.6cm), Temparature in an place (32 degrees)\n",
    "\n",
    "7. Graph type \n",
    "\n",
    "Discrete - Bar graph\n",
    "Continous - smooth curve\n",
    "\n",
    "'''\n"
   ]
  },
  {
   "cell_type": "code",
   "execution_count": null,
   "id": "11b7070f-afd8-4840-b761-ff13ccc65575",
   "metadata": {},
   "outputs": [],
   "source": [
    "#4 What are probability distribution functions (PDF)"
   ]
  },
  {
   "cell_type": "markdown",
   "id": "5fa17c50-b1c7-4934-9ff7-d287a033216a",
   "metadata": {},
   "source": [
    "A. Propability Density function(PDF)\n",
    "\n",
    "i. The propabiltiy function (PDF) is a mathematical function used in continuous random variable to find the density of values falling in a specific range.\n",
    "\n",
    "ii. A PDF, denoted as f(x), is used to describe the probability density of a continuous random variable X.\n",
    "\n",
    "iii. As the propability of continuous discrete function is 0 (P(X=x)=0), it calculates the propability in a specified interval\n",
    "\n",
    "iv. Properties of PDF\n",
    "\n",
    "1. Non-negative values\n",
    "\n",
    "The PDF is always greater than or equal to zero for all possible values of x.\n",
    " f(x)>= 0\n",
    "\n",
    "2. Area under the curve = 1\n",
    "   \n",
    "   Total area under the curve over entire range of x has to be 1. This is because the total probability of all possible outcomes must sum to 1\n",
    "\n",
    "v. Real life use -\n",
    "\n",
    "1. it is used in Weather Forecasting\n",
    "2. Quality control in manfacturing\n",
    "3. Stock market\n",
    " \n"
   ]
  },
  {
   "cell_type": "code",
   "execution_count": null,
   "id": "72223623-1da3-4ab3-af0c-eccb0059859f",
   "metadata": {},
   "outputs": [],
   "source": [
    "# 5. How do cumulative distribution functions (CDF) differ from probability distribution functions?"
   ]
  },
  {
   "cell_type": "markdown",
   "id": "a574647d-e687-4fce-9b06-2c293bd14cc9",
   "metadata": {},
   "source": [
    "'''\n",
    "A. How CDF differs from PDF\n",
    "\n",
    "- The Cumulative distribution function is sum of all propabilities upto a given point.\n",
    "\n",
    "- Wheras the Propability distribution functions : PMF and PDF are propabilities at a certain point or in an interval respectively\n",
    "\n",
    "1. CMF & PMF\n",
    "\n",
    "Lets take an example of rolling a dice\n",
    "\n",
    "x = {1,2,3,4,5,6} \n",
    "\n",
    "- For PDF, propability at certain point or value = \n",
    "\n",
    "    P(x=1) == 1/6, P(x=2) == 1/6, P(x=3) == 1/6...... P(x=6) == 1/6\n",
    "\n",
    "- For CDF, summation of all outcomes\n",
    "\n",
    "   P(x<=1) = 1/6\n",
    "   P(x<=2) = 1/6 + 1/6 = 1/3\n",
    "   P(x<=3) = 1/6 + 1/6 + 1/6 = 1/2\n",
    "   .\n",
    "   .\n",
    "   .\n",
    "   P(x<=6) = 1/6 + 1/6 + 1/6 + 1/6 + 1/6 + 1/6 = 1\n",
    "  \n",
    "\n",
    "2. CMF & PDF\n",
    "\n",
    "- Probability density of PDF plot is the slope (gradient) of the CDF.\n",
    "\n",
    "- Let’s use the standard normal distribution (mean = 0, std = 1), and check the value at x = 1"
   ]
  },
  {
   "cell_type": "code",
   "execution_count": 18,
   "id": "2900f75f-644d-4cab-99ad-5654ed6e749b",
   "metadata": {},
   "outputs": [
    {
     "data": {
      "text/plain": [
       "0.24197072451914337"
      ]
     },
     "execution_count": 18,
     "metadata": {},
     "output_type": "execute_result"
    }
   ],
   "source": [
    "#example (mean = 0, std = 1)\n",
    "\n",
    "import scipy.stats as stats\n",
    "from scipy.stats import norm\n",
    "\n",
    "#for pdf\n",
    "#norm.pdf( mean, std)\n",
    "norm.pdf(1)\n"
   ]
  },
  {
   "cell_type": "code",
   "execution_count": 20,
   "id": "96d58271-525e-488f-bdae-5941b30ad1af",
   "metadata": {},
   "outputs": [
    {
     "data": {
      "text/plain": [
       "0.8413447460685429"
      ]
     },
     "execution_count": 20,
     "metadata": {},
     "output_type": "execute_result"
    }
   ],
   "source": [
    "#for cdf \n",
    "#norm.cdf( mean, std)\n",
    "norm.cdf(1) \n"
   ]
  },
  {
   "cell_type": "code",
   "execution_count": null,
   "id": "73d21723-3ea7-4957-bd9b-c9afd07152b1",
   "metadata": {},
   "outputs": [],
   "source": [
    "# 6. What is a discrete uniform distribution?"
   ]
  },
  {
   "cell_type": "markdown",
   "id": "bbb4b4ae-93e6-4cf9-8400-54dab059170a",
   "metadata": {},
   "source": [
    "A. Discrete uniform didtribution - \n",
    "\n",
    "it is a propability distribution where each outcome has equal chances of occuring and have countable outcomes\n",
    "\n",
    "example -\n",
    "\n",
    "rolling a dice\n",
    "Tossing a coin\n",
    "Choosing a number from 1 to 5"
   ]
  },
  {
   "cell_type": "code",
   "execution_count": 26,
   "id": "f5fc5d6d-908c-49c0-a340-4befd82c3b55",
   "metadata": {},
   "outputs": [],
   "source": [
    "#python example\n",
    "\n",
    "from scipy.stats import randint\n",
    "\n",
    "ud = randint(1,7)"
   ]
  },
  {
   "cell_type": "code",
   "execution_count": 34,
   "id": "7ed256e5-5829-4293-b430-2fc32a308eed",
   "metadata": {},
   "outputs": [
    {
     "data": {
      "text/plain": [
       "0.16666666666666666"
      ]
     },
     "execution_count": 34,
     "metadata": {},
     "output_type": "execute_result"
    }
   ],
   "source": [
    "ud.pmf(4) #what is the propability of getting 4"
   ]
  },
  {
   "cell_type": "code",
   "execution_count": 36,
   "id": "f7cced9d-8f4c-4427-b2f5-5902cc653457",
   "metadata": {},
   "outputs": [
    {
     "data": {
      "text/plain": [
       "0.0"
      ]
     },
     "execution_count": 36,
     "metadata": {},
     "output_type": "execute_result"
    }
   ],
   "source": [
    "ud.pmf(7) #it is 0 as it excludes last number"
   ]
  },
  {
   "cell_type": "code",
   "execution_count": 46,
   "id": "0e95e125-045c-4083-b78b-a4d1acdfb6fd",
   "metadata": {},
   "outputs": [],
   "source": [
    "#now mean and variance\n",
    "mean = ud.mean()\n",
    "variance = ud.var()"
   ]
  },
  {
   "cell_type": "code",
   "execution_count": 48,
   "id": "f4c763c9-a3bc-42d2-ad22-e2f721dacd64",
   "metadata": {},
   "outputs": [
    {
     "data": {
      "text/plain": [
       "[3.5, 2.9166666666666665]"
      ]
     },
     "execution_count": 48,
     "metadata": {},
     "output_type": "execute_result"
    }
   ],
   "source": [
    "[mean, variance] #hence mean and variance"
   ]
  },
  {
   "cell_type": "code",
   "execution_count": 60,
   "id": "f5a6b990-57e1-4170-ab29-e0c9fd287fe6",
   "metadata": {},
   "outputs": [
    {
     "name": "stdout",
     "output_type": "stream",
     "text": [
      "the mean is: 3.5\n"
     ]
    }
   ],
   "source": [
    "print(\"the mean is:\", mean)"
   ]
  },
  {
   "cell_type": "code",
   "execution_count": 62,
   "id": "b61b057b-dc7f-4179-a705-57dcc86bed44",
   "metadata": {},
   "outputs": [
    {
     "name": "stdout",
     "output_type": "stream",
     "text": [
      "the variance is: 2.9166666666666665\n"
     ]
    }
   ],
   "source": [
    "print(\"the variance is:\", variance)"
   ]
  },
  {
   "cell_type": "code",
   "execution_count": null,
   "id": "38123e31-8158-42f8-a494-6640b0b718cf",
   "metadata": {},
   "outputs": [],
   "source": [
    "#7. What are the key properties of a Bernoulli distribution? "
   ]
  },
  {
   "cell_type": "markdown",
   "id": "fa3b4377-481d-4bac-b639-c6ca21cf004f",
   "metadata": {},
   "source": [
    "A. The Bernoulli's distribution models a random experiment which has only 2 possible outcomes.\n",
    "\n",
    "Example\n",
    "Success and failure\n",
    "Loss and gain\n",
    "Tossing a coin( heads/tail)\n",
    "True or false"
   ]
  },
  {
   "cell_type": "code",
   "execution_count": 12,
   "id": "6e2752b0-084f-40b4-9dda-1b760844cc53",
   "metadata": {},
   "outputs": [],
   "source": [
    "#python\n",
    "#In a shop, people who visit the shop, 20 percent of them buy icecreams\n",
    "#so p(x) = 0.2, (success)\n",
    "#1 - p(x) = 0.8 (failure)\n",
    "\n",
    "p = 0.2\n",
    "\n",
    "from scipy.stats import bernoulli"
   ]
  },
  {
   "cell_type": "code",
   "execution_count": 21,
   "id": "14a8353d-a752-4a5c-9907-7accc0901a04",
   "metadata": {},
   "outputs": [
    {
     "name": "stdout",
     "output_type": "stream",
     "text": [
      "the people who purchase icecream is: 0.2\n"
     ]
    }
   ],
   "source": [
    "print(\"the people who purchase icecream is:\", bernoulli.pmf(1,p))"
   ]
  },
  {
   "cell_type": "code",
   "execution_count": 23,
   "id": "fdc516e1-0265-4078-8870-fc5f54da2614",
   "metadata": {},
   "outputs": [
    {
     "name": "stdout",
     "output_type": "stream",
     "text": [
      "the people who dont purchase icecream is: 0.7999999999999996\n"
     ]
    }
   ],
   "source": [
    "print(\"the people who dont purchase icecream is:\", bernoulli.pmf(0,p))"
   ]
  },
  {
   "cell_type": "code",
   "execution_count": 25,
   "id": "1fe6daac-1e6c-4b7d-96d4-c92056f12f59",
   "metadata": {},
   "outputs": [
    {
     "name": "stdout",
     "output_type": "stream",
     "text": [
      "the mean is: 0.2\n"
     ]
    }
   ],
   "source": [
    "print(\"the mean is:\",bernoulli.mean(p))"
   ]
  },
  {
   "cell_type": "markdown",
   "id": "5c527a20-86af-456a-897d-0be165f87d13",
   "metadata": {},
   "source": [
    "conditions of bernoulli distribution\n",
    "\n",
    "- only 1 trial\n",
    "- each trial should be independent\n",
    "- only 2 possible outcomes pass/fail\n",
    "- outcome are mutually exclusive - (success and failure cannot happen at one time)\n",
    "  "
   ]
  },
  {
   "cell_type": "code",
   "execution_count": null,
   "id": "3fde2e94-788a-45de-92ff-5cc496e38e26",
   "metadata": {},
   "outputs": [],
   "source": [
    "#8. What is the binomial distribution, and how is it used in probability?"
   ]
  },
  {
   "cell_type": "markdown",
   "id": "ff482d83-04df-403a-ab00-ee87a886689c",
   "metadata": {},
   "source": [
    "A. \n",
    "The Binomial Distribution is a discrete probability distribution that models the number of successful outcomes in a fixed number of independent trials.\n",
    "\n",
    "conditions of Binomial distribution:\n",
    "\n",
    "- Each trial is independent\n",
    "- Each trial has same propability of success (for ex tossing of a coin)\n",
    "- The number of trials is fixed\n",
    "\n",
    "#Example - \n",
    "coin tosses\n",
    "medical treatment (success/failure)\n",
    "survey data (where it is mentioned yes/no)\n",
    "  "
   ]
  },
  {
   "cell_type": "code",
   "execution_count": 90,
   "id": "d8f1cc86-3cc6-401a-8547-316402120653",
   "metadata": {},
   "outputs": [
    {
     "data": {
      "image/png": "[encoded data removed]",
      "text/plain": [
       "<Figure size 640x480 with 1 Axes>"
      ]
     },
     "metadata": {},
     "output_type": "display_data"
    }
   ],
   "source": [
    "#Binomial in python\n",
    "\n",
    "#where n = number of trials, p is the propability \n",
    "bi = np.random.binomial(n = 100,p = 0.5, size = 10000) # n = 1 instead of 100 in bernoullis as trials are 1\n",
    "plt.hist(bi)\n",
    "plt.show()"
   ]
  },
  {
   "cell_type": "code",
   "execution_count": null,
   "id": "fc356dee-d4fe-4bca-aa64-effc925e248d",
   "metadata": {},
   "outputs": [],
   "source": [
    "#9. What is the Poisson distribution and where is it applied?"
   ]
  },
  {
   "cell_type": "markdown",
   "id": "11b84b54-6374-48e2-8164-bfa6f1742df3",
   "metadata": {},
   "source": [
    "A. Poisson distribution - it is a discrete propability function that describes number of events that occur with a fixed interval of time and space, given a known average rate of occurence.\n",
    "\n",
    "Charectrestics -\n",
    "- Discrete values (counts)\n",
    "- Events occur independently\n",
    "- Average rate (λ) is constant\n",
    "- Two events can't occur at exactly the same instant\n",
    "\n",
    "Examples - \n",
    "- Callcenters - no of calls per hour\n",
    "- No of visitors in a shop per day\n",
    "- Hospital - no of people come in 2hrs"
   ]
  },
  {
   "cell_type": "code",
   "execution_count": 93,
   "id": "ae6a53f1-fc57-4bcc-8038-955e4e0f13d0",
   "metadata": {},
   "outputs": [
    {
     "data": {
      "image/png": "[encoded data removed]",
      "text/plain": [
       "<Figure size 640x480 with 1 Axes>"
      ]
     },
     "metadata": {},
     "output_type": "display_data"
    }
   ],
   "source": [
    "#poisson in python\n",
    "\n",
    "p = np.random.poisson(lam = 5, size = 1000) #where λ (lambda) = average rate of events per interval\n",
    "plt.hist(p, bins = 20)\n",
    "plt.show()"
   ]
  },
  {
   "cell_type": "code",
   "execution_count": null,
   "id": "18160915-d725-44c9-a3b4-49bf87032af0",
   "metadata": {},
   "outputs": [],
   "source": [
    "# 10. What is a continuous uniform distribution?"
   ]
  },
  {
   "cell_type": "markdown",
   "id": "b4cac92d-17e4-44b8-a657-8928d7466f4c",
   "metadata": {},
   "source": [
    "A continous uniform propability distribution is a distribution that has infinity number of values defined in specific bound or range. \n",
    "\n",
    "Def - A random variable X is said to follow a continuous uniform distribution on the interval\n",
    "[a,b] if its probability density function (PDF) is:\n",
    "\n",
    "f(x) = (1/b−a for a <= X <= b \n",
    "        otherwise 0)\n",
    "\n",
    "Examples - \n",
    "\n",
    "- A perfect random number generator\n",
    "- waiting time at a bus stop where bus arrival is continuous and consistent\n",
    "- temp variations in a day\n",
    "\n",
    "Key properties - \n",
    " Mean = (a+b)/2\n",
    " Variance = (b-a)**2/12\n",
    " And the graph is rectangular in shape as the propability is rectangular throughout."
   ]
  },
  {
   "cell_type": "code",
   "execution_count": null,
   "id": "4d46e6de-007d-46ec-8d98-9e2da660fecb",
   "metadata": {},
   "outputs": [],
   "source": [
    "# 11. What are the characteristics of a normal distribution)"
   ]
  },
  {
   "cell_type": "markdown",
   "id": "7f749e01-2580-4451-95a4-fc30525439f1",
   "metadata": {},
   "source": [
    "A. The normal distribution also known as guassian distribution.\n",
    "- it comes under continuous propability distribution\n",
    "- It is bell- shaped distribution\n",
    "- Most of the real word data follows a normal distribution\n",
    "- it is one of the most important propability distribution in statistics\n",
    "\n",
    "\n",
    "*Key characteristics of Normal distribution* - \n",
    "\n",
    "1. Bell-shaped curve - it is symmetrical about mean\n",
    "2. mean = median = mode\n",
    "3. the skewness is zero - the left and right side of the curve are mirror images, equal probability on both sides\n",
    "\n",
    "4. Empirical value - (68 - 95 - 99.7 Rule)\n",
    "- 68 % of the data of Normal distribution lies within 1standard deviation away from mean value.\n",
    "- 95%  of the data of Normal distribution lies within 2standard deviation away from mean value.\n",
    "- 99.7% of the data of Normal distribution lies within 3standard deviation away from mean value.\n",
    "  \n",
    "5. The total area under the curve is 1 (100% propability)\n",
    "\n",
    "*Example*\n",
    "\n",
    "- Height of the population\n",
    "- IQ of the population\n",
    "- Measurment of errors\n",
    "- Exam scores in a class"
   ]
  },
  {
   "cell_type": "code",
   "execution_count": null,
   "id": "e2fbddca-09df-43e2-b265-73151dd431bb",
   "metadata": {},
   "outputs": [],
   "source": [
    "#12 What is the standard normal distribution, and why is it important?"
   ]
  },
  {
   "cell_type": "markdown",
   "id": "6cede29d-7379-498e-8b2a-34885060780d",
   "metadata": {},
   "source": [
    "A. \n",
    "*Standard normal distribution*: \n",
    "It is special type of normal distribution \n",
    "where mean = 0 and,\n",
    "      Standard deviation = 1\n",
    "\n",
    "- It comes under continuous propability distribution, special case of ND where mean and std.dev are fixed.\n",
    "\n",
    "*Why it is important*\n",
    "\n",
    "1. Simplifies calculations:\n",
    "    when we are comparing 2 propabilities, we cant easily compare because their mean and standard deviations are different, so here we bring both propabilities in same platform by making their mean and std dev fixed which becomes easier for the comparisions.\n",
    "\n",
    "2. Z test - Propabilities and percentiles of normal distribution are calculated by Z test which are based on the standard normal.\n",
    "\n",
    "Z scores allows us to compare scores from different normal distribution on a common scale.\n",
    "\n",
    "*use case*\n",
    "\n",
    "- Many of Machine learning algorithms like linear regression, logistic regression, clustering requires scaling.\n",
    "- scaling helps in faster computation."
   ]
  },
  {
   "cell_type": "code",
   "execution_count": null,
   "id": "a54bf0ab-9c5b-4d3d-94cc-b95cae022b32",
   "metadata": {},
   "outputs": [],
   "source": [
    "#13 What is the Central Limit Theorem (CLT), and why is it critical in statistics"
   ]
  },
  {
   "cell_type": "markdown",
   "id": "b659f86d-cb1b-4d98-b9f2-aac4e4f73e2e",
   "metadata": {},
   "source": [
    "A. \n",
    "*Central limit theorem (CLT)* -\n",
    "            It states that if you have a population with a mean and standard deviation and if you take sufficiently large no of random samples then distribution of the 'sample means' will approach a normal distribution provided the samples are independent and identically distributed.\n",
    "\n",
    "- simply stating this will help us when the distribution is not normal, and the calculation is harder. CLT simply states that by taking more no of samples we can approx the sample means to normal distribution.\n",
    "\n",
    "*Key points*\n",
    "\n",
    "1. Sample size matters -\n",
    "   - The larger the sample, the more the sample means will resemble the normal distribution.\n",
    "   - The sample size has to be greater than 30 for CLT\n",
    "     \n",
    "2. Shape of original distribution doesnt matter -\n",
    "   - Even if the original distribution is skewed or bimodal, it doesnt affect in CLT.\n",
    "   - As we take larger samples, the distribution will approach the normal distributions.\n",
    "\n",
    "3. Mean and standard deviation of sampling distribution -\n",
    "   - The mean of sampling distribution sample means will be equal to population mean (μ = μ).\n",
    "   - The standard deviation of the sample means (also called standard error) will be will be will be 𝜎 = 𝜎/sqrt n\n",
    "\n",
    "*why Critical in Statistics* -\n",
    "\n",
    "1. It makes inference possible -\n",
    "- It will help to make inference about a population possible even if the original propability distribution is unknown\n",
    "- By approxing it to normal distribution we can use normal distribution properties to caluclate probabilities and confidence intervals.\n",
    "\n",
    "2. Simplifies hypothesis testing -\n",
    "\n",
    "3. Reliable predictions - As CLT ensure the sample means approach normal distribution, which will ensure the predictions are more reliable.\n",
    "\n",
    "4. Techniques such as Z-Test, T-Test, confidence interval works for normal distribution, by CLT we can make use of these tests to most of the samples even if they are not originally normally distributed."
   ]
  },
  {
   "cell_type": "code",
   "execution_count": null,
   "id": "8ec63887-2faa-418e-9520-74cef89a1d5a",
   "metadata": {},
   "outputs": [],
   "source": [
    "#14. How does the Central Limit Theorem relate to the normal distribution?"
   ]
  },
  {
   "cell_type": "markdown",
   "id": "c047a209-707d-44fe-8895-18bede0ea852",
   "metadata": {},
   "source": [
    "A. The CLT and normal distribution are closely connected.\n",
    "\n",
    "- The CLT says that if you take large number of samples (atleast more than 30 samples), even though originally the data is skewed or not normally distributed, it will behave as normal distribution.\n",
    "\n",
    "- The CLT helps us to convert any kind of data to Normal distribution, which helps us to get more reliable results and also easier to perform statistical analysis as normal distribution is widely understood.\n",
    "\n",
    "- For example if we are analysing the height of the woman in a state, lets take 30 samples and analyze and repeat this for 100 times, the individual heights of the woman might not follow normal distribution but for the hunderedth time it will be closer to the normal distribution. This is how CLT helps us "
   ]
  },
  {
   "cell_type": "code",
   "execution_count": null,
   "id": "b0a006a6-f495-4245-940f-3ed073b85fc5",
   "metadata": {},
   "outputs": [],
   "source": [
    "#15. What is the application of Z statistics in hypothesis testing?"
   ]
  },
  {
   "cell_type": "markdown",
   "id": "5d581f47-9dbb-438a-872e-235e18cc5c96",
   "metadata": {},
   "source": [
    "A. \n",
    "\n",
    "*Z test* - \n",
    "\n",
    "A Z test is a type of hypothesis testing which compares between the sample mean to the population mean and calculate z scores and tells us how sample mean is differ from the actual population mean.\n",
    "\n",
    "Z = (X - μ) / (𝜎/sqrt n)\n",
    "\n",
    "where X is sample mean\n",
    "      μ is population mean\n",
    "      𝜎 is std dev of population\n",
    "      n is sample size\n",
    "\n",
    "\n",
    "*Applications of the Z test* -\n",
    "\n",
    "1. Test a claim about population mean -\n",
    "        if the average height of woman in a state is 155cms.\n",
    "   Then with Z tests find out whether the sample mean is significantly different from 155cms\n",
    "\n",
    "2. Determine statastical significance -\n",
    "        z score helps to decide whether to reject or fail to reject the null hypothesis\n",
    "        If the Z score falls in critical region then the result is statistically significant.\n",
    "\n",
    "3. Compare two means of independent groups -\n",
    "        in 2 sample z test we can compare 2 means of 2 independent groups, if provided standard variance and also the sample size must be larger."
   ]
  },
  {
   "cell_type": "code",
   "execution_count": null,
   "id": "a1ef5b28-77e0-4c09-88f1-02b78bc10bcf",
   "metadata": {},
   "outputs": [],
   "source": [
    "# 16. How do you calculate a Z-score, and what does it represent?"
   ]
  },
  {
   "cell_type": "markdown",
   "id": "62c1c764-8a3b-49bd-87f9-9da045ef5578",
   "metadata": {},
   "source": [
    "A. \n",
    "*Steps to calculate Z score*\n",
    "\n",
    "- A Z-score represents how many standard deviations a data point (or sample statistic) is from the mean of the distribution.\n",
    "  \n",
    "- It allows you to compare values from different datasets that may have different means and standard deviations.\n",
    "\n",
    "Z = (X - μ) / 𝜎\n",
    "\n",
    "where X is sample mean.\n",
    "      μ is population mean.\n",
    "      𝜎 is std dev of population.\n",
    "\n",
    "\n",
    "\n",
    "*A Z-score of (what it means)*\n",
    "\n",
    "0 means the value is exactly at the mean.\n",
    "\n",
    "+1 means the value is 1 standard deviation above the mean.\n",
    "\n",
    "-1 means the value is 1 standard deviation below the mean.\n",
    "\n",
    "\n",
    "*example*\n",
    "\n",
    "X = {1,2,3,4,5,6,7}\n",
    " μ = 4, 𝜎 = 1\n",
    " \n",
    "What percent of score will fall above 4.5? What is the propability that score is more than 4.5?\n",
    "\n",
    "A. z score = (X - μ) / 𝜎\n",
    "           = (4.5 - 4)/1\n",
    "           = 0.5\n",
    "\n",
    "- That means 4.5 is 0.5𝜎 away from the mean\n"
   ]
  },
  {
   "cell_type": "code",
   "execution_count": null,
   "id": "c3e45eee-b0ba-4eb3-8f63-a72ba9bf708f",
   "metadata": {},
   "outputs": [],
   "source": [
    "#17. What are point estimates and interval estimates in statistics?"
   ]
  },
  {
   "cell_type": "markdown",
   "id": "51d2e53f-9da7-4da0-b692-8474605542e5",
   "metadata": {},
   "source": [
    "A. *Estimate* - A specified observed value used to estimate an unknown population parameter using sample.\n",
    "\n",
    "1. *Point estimate* - A single value that is used to estimate the true value of population paramenter.\n",
    "\n",
    "*example* - Average salary of IT employee - as it is impossible to go to all the employees, we take a sample and estimate the average salray of the population\n",
    "\n",
    "if the average salary is 50,000 for the sample, then the point estimate is 50k. \n",
    "it is precise but doesnt express uncertainity\n",
    "the analysis is wrong if the salary is slightly higher or lower like 51k or 49k\n",
    "\n",
    "2. *interval estimate* - same usage of sample for analysis as above, but in the result here we consider an interval, along with the confidence level (95%)\n",
    "\n",
    "*example* - As above example of IT employee now we give an interval like the salary is in between (40k - 60k) instead of a single value. \n",
    "\n",
    "this is more realistic, and reliable. "
   ]
  },
  {
   "cell_type": "code",
   "execution_count": null,
   "id": "18e14541-0a89-4398-a89f-69128ff287bb",
   "metadata": {},
   "outputs": [],
   "source": [
    "#18 What is the significance of confidence intervals in statistical analysis?"
   ]
  },
  {
   "cell_type": "markdown",
   "id": "cb839772-ed27-4a0a-9d6e-624a2623cdd0",
   "metadata": {},
   "source": [
    "A. *Confidence interval* -\n",
    "\n",
    "A confidence interval gives a range of values that is likely to contain the population parameter (e.g., population mean) with a certain level of confidence. For example, a 95% confidence interval suggests that we are 95% confident the population mean falls within this range.\n",
    "\n",
    "The significance of confidence interval lies in how they help quantify uncertainity and also helps in decision making.\n",
    "\n",
    "- *More informative than point estimates* - Instead of point estimate, it gives a range of values where the true population parameter is likely to fall. \n",
    "\n",
    "- *Level of confidence* - 95% of confidence means if we are conducting the test for 100 times than 95 times we get the same result.\n",
    "\n",
    "- They measure precision - narrow CI is highly precise, and wide CI indicates more uncertanity.\n",
    "\n",
    "-  They assist in decision making - helps to know whether a effect is statistically or practically significant\n",
    "\n",
    "-  Applications - critical in scientific reporting and policy making where over confidence can mislead.\n"
   ]
  },
  {
   "cell_type": "code",
   "execution_count": null,
   "id": "9c7fb907-a47a-4fdf-aa4e-e547f3a1c42b",
   "metadata": {},
   "outputs": [],
   "source": [
    "#19 What is the relationship between a Z-score and a confidence interval?"
   ]
  },
  {
   "cell_type": "markdown",
   "id": "0df3f2ad-c047-4942-ae6e-922c4f94cf1e",
   "metadata": {},
   "source": [
    "A. *Relationship between Z score and Confidence interval* - \n",
    "\n",
    "- There is a direct relationship between z score and confidence interval.\n",
    "-  The z score determines  the range or width of the confidence interval when the distribution is normal distribution.\n",
    "\n",
    "- A z score determine how many standard deviation a value is from the mean.\n",
    "- In a CI it determines how far we have to go from the mean to capture a certain percentage of data.\n",
    "\n",
    "- The z score defines the bound of the CI when the Standard deviation is known.\n",
    "\n",
    "*confidence interval* = (x + Z * σ/sqrt n) to (x - Z * σ/sqrt n)\n",
    "\n",
    "where x is sample mean\n",
    "Z is z score corresponding to desired confidence level\n",
    "σ is std dev\n",
    "n is sample size\n",
    "\n",
    "*z scores for confidence levels*\n",
    "\n",
    "- for 90% confidence level, z score is 1.645\n",
    "- for 95% confidence level, z score is 1.96\n",
    "- for 99% confidence level, z score is 2.576\n",
    "\n",
    "Example - \n",
    "\n",
    "sample mean = 100\n",
    "std dev = 10\n",
    "sample size = 25\n",
    "for a 95% CI, Z = 1.96\n",
    "\n",
    "*confidence interval* = (x + Z * (σ/sqrt n)) to (x - Z * (σ/sqrt n))\n",
    "                      = (100 + 1.96 * (10/25)) to (100 - 1.96 * (10/25))\n",
    "                      = (96.08, 103.92)"
   ]
  },
  {
   "cell_type": "code",
   "execution_count": null,
   "id": "30d4bf46-abd4-4b76-b482-7e357ada4033",
   "metadata": {},
   "outputs": [],
   "source": [
    "#20. How are Z-scores used to compare different distributions?"
   ]
  },
  {
   "cell_type": "markdown",
   "id": "251b391f-7ccb-4c4b-906c-715c2286dc9d",
   "metadata": {},
   "source": [
    "A. Z scores helps us to compare the different distributions in the sense even the mean and sigma of them are different.\n",
    "\n",
    "\n",
    "- *Standardisation*\n",
    "          The z score convert the raw data into a standardised format with a mean 0 and standard deviation 1. This transformation allows comparision of different distributions that might have different scales.\n",
    "\n",
    "- *comparision of data points*\n",
    "          By the z scores we can compare how far a data point is from its mean of its respective distribution.\n",
    "\n",
    "  For example a z score of 2 indicates that the data point is 2 sigma away from the mean \n",
    "\n",
    "- *identifies outliers*\n",
    "          Z scores are also useful for identifying the outliers, which are data points that are significantly away fron the mean. for example z > 3 suggests an outlier\n",
    "\n",
    "- *Comparing Different Distributions*\n",
    "        we can compare two different distributions. for example there are two tests, maths and science where the mean and std dev are\n",
    "\n",
    "  Math test - std dev = 5, mean (avg marks) = 80\n",
    "\n",
    "  Scioence test - std dev = 10, mean(avg marks) = 70\n",
    "\n",
    "  A student scores 85 in math and 80 in science, which performance is better?\n",
    "\n",
    "Now, Z for math : 85 - 80/5 = 1\n",
    "  \n",
    "Z for science  : 80-75/10 = 0.5  \n",
    "\n",
    "Here the student is 1 std dev away from the mean for math and 0.5 away from the mean for science, that means he performed relatively better in maths than science."
   ]
  },
  {
   "cell_type": "code",
   "execution_count": null,
   "id": "14062b39-9f07-489d-93fe-bf7116a2f6d1",
   "metadata": {},
   "outputs": [],
   "source": [
    "#21. What are the assumptions for applying the Central Limit Theorem?"
   ]
  },
  {
   "cell_type": "markdown",
   "id": "1c7cb3ce-3b1f-4ff1-9dc1-d63e284fa1b0",
   "metadata": {},
   "source": [
    "A. Assumptions for applying central limit theorem: \n",
    "\n",
    "a. Sample size - The sample size should be larger, greater than 30. only then it will come closer to the normal distributions. for distributions which are non- normal than more than 50 samples will give good results.\n",
    "\n",
    "b. Independence of observation - The observations within the sample should be independent from each other, one observation shouldnt affect other.\n",
    "\n",
    "example in a survey one response shouldnt affect other persons response. it might become biased.\n",
    "\n",
    "c. Random sampling - The sample is selected randomly from the population, this ensures there are less bias.\n",
    "\n",
    "d. Finite variance - The variance of the sample should be finite, which ensures that the sample means are not too wide spread. \n",
    "\n",
    "e. sample size limit (without replacement) - the sample should be 10 percent of the total population, this ensures independence of observations, without repeating the samples."
   ]
  },
  {
   "cell_type": "code",
   "execution_count": null,
   "id": "857f5be5-2686-455a-86d6-807694dff1c8",
   "metadata": {},
   "outputs": [],
   "source": [
    "#22. What is the concept of expected value in a probability distribution?"
   ]
  },
  {
   "cell_type": "markdown",
   "id": "4a10c3ea-951f-46e8-8284-0ffbecef7c04",
   "metadata": {},
   "source": [
    "A. Expected value in propability distribution - \n",
    "\n",
    "The expected value is the average outcome expected if the experiment were repeated many times.\n",
    "\n",
    "- for a discrete random variable the expected value is the summation the product of each outcome with the propability.\n",
    "  \n",
    "- for continuous random variable, the expected value is caluclated by the integration of the product of the variable and its population density functions over all possible values.\n",
    "\n",
    "- its a measure of central tendency of the propability distributions"
   ]
  },
  {
   "cell_type": "code",
   "execution_count": null,
   "id": "9cad7cac-5d52-4284-a275-4ec34033bc17",
   "metadata": {},
   "outputs": [],
   "source": [
    "# 23. How does a probability distribution relate to the expected outcome of a random variable?"
   ]
  },
  {
   "cell_type": "markdown",
   "id": "cc6735f7-f405-42ca-b8af-042be9340a91",
   "metadata": {},
   "source": [
    "A. *Probability distribution*: it is function describing the probabilities of different outcomes in an experiment.\n",
    "\n",
    "*expected outcomes* - it is a weighted average of all the possible outcomes, using the probabilities of distribution as weights\n",
    "\n",
    "it represents what we would expect on average if we repeated the experiment many times.\n",
    "\n",
    "now example\n",
    "\n",
    "suppose one person applies for 3 different companies with salary, 30k, 40k and 50 k\n",
    "the propability of getting the salary is as follows\n",
    "\n",
    "30 k - 0.2\n",
    "40 k - 0.5\n",
    "50k -  0.3\n",
    "\n",
    "now, E(x) = Sigma xi P(xi)\n",
    "          = 0.2 *30,000 + 0.5*40,000 + 0.3*50000\n",
    "          = 41,000/-\n",
    "\n",
    "the expected average salary is 41k."
   ]
  },
  {
   "cell_type": "code",
   "execution_count": null,
   "id": "f18ff0e7-2428-4f81-bfe0-2c06cfba0449",
   "metadata": {},
   "outputs": [],
   "source": []
  },
  {
   "cell_type": "code",
   "execution_count": null,
   "id": "8e2661b3-1e78-40f2-b5b8-721abdc93d27",
   "metadata": {},
   "outputs": [],
   "source": []
  }
 ],
 "metadata": {
  "kernelspec": {
   "display_name": "Python 3 (ipykernel)",
   "language": "python",
   "name": "python3"
  },
  "language_info": {
   "codemirror_mode": {
    "name": "ipython",
    "version": 3
   },
   "file_extension": ".py",
   "mimetype": "text/x-python",
   "name": "python",
   "nbconvert_exporter": "python",
   "pygments_lexer": "ipython3",
   "version": "3.12.7"
  }
 },
 "nbformat": 4,
 "nbformat_minor": 5
}
